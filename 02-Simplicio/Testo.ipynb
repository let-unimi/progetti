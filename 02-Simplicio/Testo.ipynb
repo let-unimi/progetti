{
  "cells": [
    {
      "cell_type": "markdown",
      "id": "revised-drill",
      "metadata": {},
      "source": [
        "# Simplicio\n",
        "\n",
        "Scopo del progetto è realizzare una procedura in grado di svolgere delle espressioni matematiche.\n",
        "\n",
        "In questa sezione verrà presentato il problema, mentre nella successiva verranno descritti i dettagli della procedura da realizzare."
      ]
    },
    {
      "cell_type": "markdown",
      "id": "assumed-injury",
      "metadata": {},
      "source": [
        "## Il problema\n",
        "\n",
        "Durante gli anni della scuola primaria e secondaria di pirmo grado, uno degli  esercizi di matematica più comunemente assegnati riguarda lo svolgimento delle  espressioni.\n",
        "\n",
        "Una **espressione** è una sequenza di *numeri* (in un certo dominio, come ad esempio  l'insieme dei numeri naturali $\\mathbb{N}$, o dei numeri razioniali $\\mathbb{Q}$) e di *segni di operazione* (somme, prodotti, moltiplicazioni, divisioni) e *costrutti* più avanzati come frazioni, o elevamenti a potenza; in alcuni casi sono presenti anche delle *parentesi* che possono essere di tipo diverso (tonde, quadre e graffe) e obbediscono a specifiche regole di annidamento. Per **sottoespressione** di una espressione intendiamo una espressione che ne costituisca una parte.\n",
        "\n",
        "Lo **svolgimento** di una espressione consiste nell'individuare ripetutamente delle sue sottoespressioni che possano essere *semplificate*, ossia sostituite con il loro valore (immediatamente calcolabile), riducendo l'espressione fin quando sarà costituita da un solo numero. Operazioni, costrutti e parentesi hanno una ben definita associatività e precedenza che consentono di definire quale sia la sottoespressione da considerare a ogni passo (come sarà chiarito più formalmente in seguito).\n",
        "\n",
        "Un esempio di svolgimento di espressione su $\\mathbb{N}$ è"
      ]
    },
    {
      "cell_type": "markdown",
      "id": "acknowledged-nursery",
      "source": [
        "$$\n",
        "\\begin{align*}& 1 + \\left\\{2 \\times \\left[\\color{blue}{\\left(3 + \\color{red}{\\boxed{4 : 2}}\\right)} + 5\\right] \\times 6\\right\\} - \\left[7 + \\left(1 + 8\\right) : 3\\right] \\times \\left[9 : \\left(2 + 1\\right) + 2\\right]\\\\\n",
        "&1 + \\left\\{2 \\times \\left[\\color{blue}{\\left(\\color{red}{\\boxed{3 + \\color{green}{\\boxed{2}}}}\\right)} + 5\\right] \\times 6\\right\\} - \\left[7 + \\left(1 + 8\\right) : 3\\right] \\times \\left[9 : \\left(2 + 1\\right) + 2\\right]\\\\\n",
        "&1 + \\left\\{2 \\times \\left[\\color{green}{\\boxed{5}} + 5\\right] \\times 6\\right\\} - \\left[7 + \\color{blue}{\\left(\\color{red}{\\boxed{1 + 8}}\\right)} : 3\\right] \\times \\left[9 : \\left(2 + 1\\right) + 2\\right]\\\\\n",
        "&1 + \\left\\{2 \\times \\left[5 + 5\\right] \\times 6\\right\\} - \\left[7 + \\color{green}{\\boxed{9}} : 3\\right] \\times \\left[9 : \\color{blue}{\\left(\\color{red}{\\boxed{2 + 1}}\\right)} + 2\\right]\\\\\n",
        "&1 + \\left\\{2 \\times \\color{blue}{\\left[\\color{red}{\\boxed{5 + 5}}\\right]} \\times 6\\right\\} - \\left[7 + 9 : 3\\right] \\times \\left[9 : \\color{green}{\\boxed{3}} + 2\\right]\\\\\n",
        "&1 + \\left\\{2 \\times \\color{green}{\\boxed{10}} \\times 6\\right\\} - \\color{blue}{\\left[7 + \\color{red}{\\boxed{9 : 3}}\\right]} \\times \\left[9 : 3 + 2\\right]\\\\\n",
        "&1 + \\left\\{2 \\times 10 \\times 6\\right\\} - \\color{blue}{\\left[\\color{red}{\\boxed{7 + \\color{green}{\\boxed{3}}}}\\right]} \\times \\left[9 : 3 + 2\\right]\\\\\n",
        "&1 + \\left\\{2 \\times 10 \\times 6\\right\\} - \\color{green}{\\boxed{10}} \\times \\color{blue}{\\left[\\color{red}{\\boxed{9 : 3}} + 2\\right]}\\\\\n",
        "&1 + \\left\\{2 \\times 10 \\times 6\\right\\} - 10 \\times \\color{blue}{\\left[\\color{red}{\\boxed{\\color{green}{\\boxed{3}} + 2}}\\right]}\\\\\n",
        "&1 + \\color{blue}{\\left\\{\\color{red}{\\boxed{2 \\times 10 \\times 6}}\\right\\}} - 10 \\times \\color{green}{\\boxed{5}}\\\\\n",
        "&1 + \\color{green}{\\boxed{120}} - \\color{red}{\\boxed{10 \\times 5}}\\\\\n",
        "&\\color{red}{\\boxed{1 + 120 - \\color{green}{\\boxed{50}}}}\\\\\n",
        "&\\color{green}{\\boxed{71}}\\\\\\end{align*}\n",
        "$$"
      ],
      "metadata": {}
    },
    {
      "cell_type": "markdown",
      "id": "small-intelligence",
      "metadata": {},
      "source": [
        "Notiamo come in ciascuna espresione:\n",
        "\n",
        "* la sottoespressione tra parentesi oggetto della semplificazione (se presente) è colorata in blu,\n",
        "* la sottoespressione che sta per essere semplificata è riquadrata in rosso,\n",
        "* il risultato della semplificazione del passo precedente (se presente) è riquadrato in verde.\n",
        "\n",
        "Inoltre, osserviamo come le parentesi siano affrontate a partire dalle tonde (da quella più a sinistra a quella più a destra), quindi vengano considerate le quadre (sempre da sinistra a destra) e, infine, le graffe. All'interno poi di ogni parentesi (o in assenza delle medesime), vengono prima svolte moltiplicazioni e divisioni, quindi somme e sottrazioni. Notiamo, infine, che sequenze di operazioni con la stessa precedenza vengono semplificate (nel rispetto dell'associatività) in un solo passo.\n",
        "\n",
        "Nonostante siano presenti delle operazioni di sottrazione, possiamo considerare questa come una espressione su $\\mathbb{N}$, piuttosto che su $\\mathbb{Z}$, perché non accade mai che una semplificazione dia un risultato negativo. \n",
        "\n",
        "Obiettivo del progetto sarà ottenere un risultato simile a quello dell'esempio precedente."
      ]
    },
    {
      "cell_type": "markdown",
      "id": "engaged-diving",
      "metadata": {},
      "source": [
        "### Svolgere una espressione\n",
        "\n",
        "In questa sezione definiamo più formalmente come avviene lo svogimento di una espressione, iniziando dal caso in cui non ci siano parentesi, per poi passare a considerare il caso in cui siano presenti.\n",
        "\n",
        "#### Espressiioni prive di parentesi\n",
        "\n",
        "Oltre alle quattro operazioni aritmetiche, le espressioni possono contenere anche *frazioni*, segni *unari* e *potenze*. Tali costrutti richiedono un minimo di attenzione in più riguardo sia alla loro definizione che al modo in cui svolgere le espressioni che li comprendono.\n",
        "\n",
        "Iniziamo dalle **frazioni**. Se una espressione contiene delle frazioni, per prima cosa è ragionevole ritenere che il suo dominio sia $\\mathbb{Q}$; è infatti naturale considerare l'espressione $2/3$ come costituita da un solo numero razionale. Più complesso è il caso di frazioni il cui numeratore o denominatore non siano solo numeri interi; essi potrebbero essere, a loro volta, frazioni\n",
        "\n",
        "$$\n",
        "    \\frac{\\frac{2}{3}}{4}\\text, \\quad\\text{o}\\quad \\frac{5}{\\frac{6}{7}}\n",
        "$$\n",
        "\n",
        "o addirittura sottoespressioni\n",
        "\n",
        "$$\n",
        "    \\frac{2}{3 + 4}\\text, \\qquad \\frac{2 \\times 3 + 4}{5}\\text, \\qquad \\frac{2}{3 + \\frac{4}{5}}\\text.\n",
        "$$\n",
        "\n",
        "Il segno di frazione consente di \"raggruppare\" le sottoespressioni al numeratore e denominatore senza bisogno di parentesi: gli esempi precedenti sono, di fatto, rispettivamente equivalenti a\n",
        "\n",
        "$$\n",
        "    \\frac{\\left(\\frac{2}{3}\\right)}{4}, \\quad \n",
        "    \\frac{5}{\\left(\\frac{6}{7}\\right)}, \\quad\n",
        "    \\frac{2}{(3 + 4)}, \\quad \n",
        "    \\frac{(2 \\times 3 + 4)}{5}, \\quad \n",
        "    \\frac{2}{\\left(3 + \\frac{4}{5}\\right)}\\text.\n",
        "$$\n",
        "\n",
        "Ovviamente le paretensi potrebbero essere necessarie all'interno delle sottoespressioni, come ad esempio in \n",
        "\n",
        "$$\n",
        "    \\frac{2 \\times (3 + 4)}{5}\\text,\n",
        "$$\n",
        "\n",
        "ma al momento non consideriamo questo caso.\n",
        "\n",
        "Una espressione composta da una frazione *senza parentesi* può essere svolta in modo ricorsivo, svolgendo dapprima (per via dell'associatività a sinistra) il numeratore e quindi il denominatore. Un esempio è dato dallo svolgimento seguente"
      ]
    },
    {
      "cell_type": "markdown",
      "id": "generic-fetish",
      "source": [
        "$$\n",
        "\\begin{align*}& \\frac{\\frac{\\frac{\\color{red}{\\boxed{2 + 3}}}{4}}{5 + 6}}{7}\\\\\n",
        "&\\frac{\\frac{\\color{red}{\\boxed{\\frac{\\color{green}{\\boxed{5}}}{4}}}}{5 + 6}}{7}\\\\\n",
        "&\\frac{\\frac{\\color{green}{\\boxed{\\frac{5}{4}}}}{\\color{red}{\\boxed{5 + 6}}}}{7}\\\\\n",
        "&\\frac{\\color{red}{\\boxed{\\frac{\\frac{5}{4}}{\\color{green}{\\boxed{11}}}}}}{7}\\\\\n",
        "&\\color{red}{\\boxed{\\frac{\\color{green}{\\boxed{\\frac{5}{44}}}}{7}}}\\\\\n",
        "&\\color{green}{\\boxed{\\frac{5}{308}}}\\\\\\end{align*}\n",
        "$$"
      ],
      "metadata": {}
    },
    {
      "cell_type": "markdown",
      "id": "recorded-cheese",
      "metadata": {},
      "source": [
        "Osserviamo come in alcuni passi una espressione frazione venga solo semplificata nel numero razionale a cui corrisponde. Tali passi sono svolti esplicitamente per rendere più evidente la differenza tra espressione (frazione) e numero (razionale).\n",
        "\n",
        "Per inciso, è opportuno riflettere sul fatto che (secondo le definizioni date sin qui) una espressione con frazioni può comunque avere valori in $\\mathbb{N}$: ciò accade se ogni frazione si può semplificare in un intero (come nel caso $(4+6)/(2+3)$ che si semplifica in $5$); similmente, può essere opportuno considerare come espressione a valori in $\\mathbb{Q}$ anche una espressione in cui non compaiono frazioni, ad esempio nel caso in cui una divisione non si semplifichi in un intero (come nel caso $(2 + 3) : (4 + 5)$ che si semplifica in $5/9$)."
      ]
    },
    {
      "cell_type": "markdown",
      "id": "activated-regular",
      "metadata": {},
      "source": [
        "Un discorso del tutto analogo vale per le **potenze**. Consideriamo, per il momento, solo espressioni su $\\mathbb{N}$ (rimandando a una discussione successiva il caso di numeri negativi e frazioni). In questo caso, è l'esponente che potrebbe a sua volta essere una potenza\n",
        "$$\n",
        "    2^{3^4}\n",
        "$$\n",
        "\n",
        "o una sottoespressione, come in \n",
        "\n",
        "$$\n",
        "    2^{3 + 4}\\text, \\qquad 2^{3 + 4^5 : 2^7}\\text, \\qquad 2^{3 + 4^{5 + 6}}\\text.\n",
        "$$\n",
        "\n",
        "La \"posizione rialzata\" dell'esponente consente di \"raggruppare\" le sottoespressioni del numeratore e denominatore senza bisogno di parentesi: gli esempi precedenti sono di fatto rispettivamente equivalenti a\n",
        "\n",
        "$$\n",
        "    2^{(3 + 4)}\\text, \\qquad 2^{(3 + 4^5 : 2^7)}\\text, \\qquad 2^{\\left(3 + 4^{(5 + 6)}\\right)}\\text.\n",
        "$$\n",
        "\n",
        "Ovviamente le paretensi potrebbero essere necessarie all'interno della sottoespressione all'esponente, come ad esempio in \n",
        "\n",
        "$$\n",
        "    2^{(3 + 4) \\times 5}\\text,\n",
        "$$\n",
        "\n",
        "ma, anche in questo caso, rimandiamo la discussione di questo fatto a dopo.\n",
        "\n",
        "Una espressione composta da una potenza *priva di parentesi parentesi* può essere svolta in modo ricorsivo, svolgendo dapprima l'esponente (per via dell'associatività a destra). Un esempio è dato dallo svolgimento seguente"
      ]
    },
    {
      "cell_type": "markdown",
      "id": "imperial-liechtenstein",
      "source": [
        "$$\n",
        "\\begin{align*}& {2}^{3 + \\color{red}{\\boxed{{4}^{5}}} : {2}^{7}}\\\\\n",
        "&{2}^{3 + \\color{green}{\\boxed{1024}} : \\color{red}{\\boxed{{2}^{7}}}}\\\\\n",
        "&{2}^{3 + \\color{red}{\\boxed{1024 : \\color{green}{\\boxed{128}}}}}\\\\\n",
        "&{2}^{\\color{red}{\\boxed{3 + \\color{green}{\\boxed{8}}}}}\\\\\n",
        "&\\color{red}{\\boxed{{2}^{\\color{green}{\\boxed{11}}}}}\\\\\n",
        "&\\color{green}{\\boxed{2048}}\\\\\\end{align*}\n",
        "$$"
      ],
      "metadata": {}
    },
    {
      "cell_type": "markdown",
      "id": "standard-robin",
      "metadata": {},
      "source": [
        "Si osservi che nello svolgimento dell'esponente vengono svolte le potenze da sinistra a destra e quindi, nell'ordine usuale, divisioni e somme.\n",
        "\n",
        "Volendo considerare anche il caso di esponenti frazionari, o negativi, una prima possibilità è quella di considerare espressioni su $\\mathbb{R}$ (che però è piuttosto inusuale nel percorso scolastico della scuola secondaria di primo grado); appare più sensato limitarsi a espressioni su $\\mathbb{Q}$, in cui, durante le semplificazioni, in presenza di un esponente frazionario con denominatore $d$, la base sia sempre un numero razionale $q^d$. Ad esempio $(4/25)^{-3/2}$ può essere semplificato in $125/8$ su $\\mathbb{Q}$."
      ]
    },
    {
      "cell_type": "markdown",
      "id": "heavy-escape",
      "metadata": {},
      "source": [
        "Riguardo ai segni **unari**, come ad esempio il meno nell'espressione $-(2 + 3) \\times 5$ o il più in $+2 - 3$ (ma non il meno, che in questa seconda espressione è binario), occorre fare alcune precisazioni. Sebbene in linea di princpio tali segni potrebbero essere ripetuti, come in $--(2 + 3)$, o addirittura \"mescolati\" come in $-++--++(2 + 3)$, è sensato assumere che nell'espressione figuri non più di un singolo segno unario meno per volta; similmente è sensato assumere che se il segno meno precede un numero (sia esso natuale o razionale senza segno), esso sia considerato parte del numero (rendendolo negativo) e non l'operatore unario. \n",
        "\n",
        "Riguardo alla precedenza di tale operatore occorre però prestare attenzione: certamente dev'essere più alta degli operatori aritmetici e poco conta rispetto alle frazioni dal momento che assorbire il segno al numeratore non ne cambierebbe il valore, ad esempio $-\\frac{3}{4}=\\frac{-3}{4}$. Ben diverso è però il caso delle potenze: se l'esponente è pari, l'ordine di valutazione tra il meno unario e l'elevamento a potenza cambia il risultato, ad esempio $-\\langle2^2\\rangle = -4 \\neq 4 = \\langle-2\\rangle^2$ (dove abbiamo usato le parentesi angolari per indicare l'ordine di valutazione).\n",
        "\n",
        "Sebbene non ci sia un accordo universale circa la questione, in questo progetto *la precedenza del meno unario si colloca sopra quella delle frazioni, ma prima di quella delle potenze*."
      ]
    },
    {
      "cell_type": "markdown",
      "id": "continuous-wages",
      "metadata": {},
      "source": [
        "Quanto discusso in questa sezione consente di precisare completamente (seppur in modo ricorsivo) cosa si intenda per svolgimento di una espressione che non contiene parentesi:\n",
        "\n",
        "* si svolgono le potenze (da sinistra a destra), svolgendo in modo ricorsivo gli esponenti, quindi\n",
        "* si svolgono le frazioni (da sinistra a destra), svolgendo in modo ricorsivo dapprima il numeratore e quindi il denominatore, poi\n",
        "* si svolgono i meno unari (da sinistra a destra),\n",
        "* si svolgono prodotti e divisioni (in un solo passaggio, rispettando l'associatività a sinistra) e, infine,\n",
        "* si svolgono somme e sottrazioni (in un solo passaggio, rispettando l'associatività a sinistra).\n",
        "\n",
        "Come esempio riassuntivo si consideri la seguente espressione su $\\mathbb{Q}$"
      ]
    },
    {
      "cell_type": "markdown",
      "id": "traditional-chair",
      "source": [
        "$$\n",
        "\\begin{align*}& 3 + 13 \\times -\\frac{1 + 3}{{2}^{\\color{red}{\\boxed{1 + 4}}} - 6}\\\\\n",
        "&3 + 13 \\times -\\frac{1 + 3}{\\color{red}{\\boxed{{2}^{\\color{green}{\\boxed{5}}}}} - 6}\\\\\n",
        "&3 + 13 \\times -\\frac{\\color{red}{\\boxed{1 + 3}}}{\\color{green}{\\boxed{32}} - 6}\\\\\n",
        "&3 + 13 \\times -\\frac{\\color{green}{\\boxed{4}}}{\\color{red}{\\boxed{32 - 6}}}\\\\\n",
        "&3 + 13 \\times -\\color{red}{\\boxed{\\frac{4}{\\color{green}{\\boxed{26}}}}}\\\\\n",
        "&3 + 13 \\times \\color{red}{\\boxed{-\\color{green}{\\boxed{\\frac{2}{13}}}}}\\\\\n",
        "&3 + \\color{red}{\\boxed{13 \\times \\color{green}{\\boxed{\\frac{-2}{13}}}}}\\\\\n",
        "&\\color{red}{\\boxed{3 + \\color{green}{\\boxed{-2}}}}\\\\\n",
        "&\\color{green}{\\boxed{1}}\\\\\\end{align*}\n",
        "$$"
      ],
      "metadata": {}
    },
    {
      "cell_type": "markdown",
      "id": "adjustable-memorial",
      "metadata": {},
      "source": [
        "Come si vede, per prima cosa è stata svolta la potenza (svolgendo ricorsivamente l'epsonente), quindi la frazione (svolgendo ricorsivamente numeratore e denominatore) da cui è stato ottenuto il numero $2/13$, a cui quindi è stato \"girato\" il segno (per via del meno unario), quindi sono state svolte le moltiplicazioni, e per ultima la somma."
      ]
    },
    {
      "cell_type": "markdown",
      "id": "valid-participant",
      "metadata": {},
      "source": [
        "#### Espressioni con parentesi\n",
        "\n",
        "Non resta che specificare come definire lo svolgimento di una espressione nel caso in cui contenga delle parentesi. \n",
        "\n",
        "Iniziamo con l'osservare che una sottoespressione racchiusa tra parentesi può, a sua volta, contenere sottoespressioni racchiuse tra parentesi, dando luogo al cosiddetto *annidamento*; il *grado di annidamento* di una sottoespressione $s$ di una espressione $E$ è il numero di sottoespressioni racchiuse tra parentesi $t$ di $E$ di cui $s$ è sottoespressione.\n",
        "\n",
        "Usualmente si considerano due modi in cui è legittimo adoperare le parentesi, che qui chiameremo *semplice* e *libero*.\n",
        "\n",
        "Nella parentesizzazione **semplice** vengono usate parentesi di tre tipi (tonde, quadre e graffe) che possono essere annidate in modo che:\n",
        "\n",
        "* le espressioni racchiuse da tonde non contengano sottoespressioni con parentesi,\n",
        "* le espressioni racchiuse da quadre non contengano sottoespressioni con quadre o graffe,\n",
        "* le espressioni racchiuse da graffe non contengano sottoespressioni con graffe.\n",
        "\n",
        "Questa parentesizzazione è detta *semplice* perché il grado di annidamento è finito, il che consente di definire lo svolgimento in modo *iterativo*; si procede infatti per ordine:\n",
        "\n",
        "* dapprima si svolgono le parentesi tonde, se presenti, da quella più a sinistra a quella più a destra, quindi\n",
        "* si svolgono le parentesi quadre, se presenti, da quella più a sinistra a quella più a destra, e, infine\n",
        "* si svolgono le parentesi graffe, se presenti, da quella più a sinistra a quella più a destra.\n",
        "\n",
        "Risulta evidente che ciascuno di questi tre passi opera su sottoespressioni che non contengono parentesi, il cui svolgimento è pertanto quello definito nella sezione precedente.\n",
        "\n",
        "Un esempio di svolgimento di una espressione su $\\mathbb{Q}$ con parentesizzazione semplice, frazioni e potenze, è data da"
      ]
    },
    {
      "cell_type": "markdown",
      "id": "quantitative-mobile",
      "source": [
        "$$\n",
        "\\begin{align*}& \\frac{3}{4 + 2} + 2 \\times \\left\\{3 : \\color{blue}{\\left(\\color{red}{\\boxed{4 + 5}}\\right)} + {2}^{6 \\times \\frac{1}{2}}\\right\\} - \\frac{2 \\times \\left[5 \\times \\left(3 + 4\\right) + 5\\right] - 1}{6}\\\\\n",
        "&\\frac{3}{4 + 2} + 2 \\times \\left\\{3 : \\color{green}{\\boxed{9}} + {2}^{6 \\times \\frac{1}{2}}\\right\\} - \\frac{2 \\times \\left[5 \\times \\color{blue}{\\left(\\color{red}{\\boxed{3 + 4}}\\right)} + 5\\right] - 1}{6}\\\\\n",
        "&\\frac{3}{4 + 2} + 2 \\times \\left\\{3 : 9 + {2}^{6 \\times \\frac{1}{2}}\\right\\} - \\frac{2 \\times \\color{blue}{\\left[\\color{red}{\\boxed{5 \\times \\color{green}{\\boxed{7}}}} + 5\\right]} - 1}{6}\\\\\n",
        "&\\frac{3}{4 + 2} + 2 \\times \\left\\{3 : 9 + {2}^{6 \\times \\frac{1}{2}}\\right\\} - \\frac{2 \\times \\color{blue}{\\left[\\color{red}{\\boxed{\\color{green}{\\boxed{35}} + 5}}\\right]} - 1}{6}\\\\\n",
        "&\\frac{3}{4 + 2} + 2 \\times \\color{blue}{\\left\\{3 : 9 + {2}^{\\color{red}{\\boxed{6 \\times \\frac{1}{2}}}}\\right\\}} - \\frac{2 \\times \\color{green}{\\boxed{40}} - 1}{6}\\\\\n",
        "&\\frac{3}{4 + 2} + 2 \\times \\color{blue}{\\left\\{3 : 9 + \\color{red}{\\boxed{{2}^{\\color{green}{\\boxed{3}}}}}\\right\\}} - \\frac{2 \\times 40 - 1}{6}\\\\\n",
        "&\\frac{3}{4 + 2} + 2 \\times \\color{blue}{\\left\\{\\color{red}{\\boxed{3 : 9}} + \\color{green}{\\boxed{8}}\\right\\}} - \\frac{2 \\times 40 - 1}{6}\\\\\n",
        "&\\frac{3}{4 + 2} + 2 \\times \\color{blue}{\\left\\{\\color{red}{\\boxed{\\color{green}{\\boxed{\\frac{1}{3}}} + 8}}\\right\\}} - \\frac{2 \\times 40 - 1}{6}\\\\\n",
        "&\\frac{3}{\\color{red}{\\boxed{4 + 2}}} + 2 \\times \\color{green}{\\boxed{\\frac{25}{3}}} - \\frac{2 \\times 40 - 1}{6}\\\\\n",
        "&\\color{red}{\\boxed{\\frac{3}{\\color{green}{\\boxed{6}}}}} + 2 \\times \\frac{25}{3} - \\frac{2 \\times 40 - 1}{6}\\\\\n",
        "&\\color{green}{\\boxed{\\frac{1}{2}}} + 2 \\times \\frac{25}{3} - \\frac{\\color{red}{\\boxed{2 \\times 40}} - 1}{6}\\\\\n",
        "&\\frac{1}{2} + 2 \\times \\frac{25}{3} - \\frac{\\color{red}{\\boxed{\\color{green}{\\boxed{80}} - 1}}}{6}\\\\\n",
        "&\\frac{1}{2} + 2 \\times \\frac{25}{3} - \\color{red}{\\boxed{\\frac{\\color{green}{\\boxed{79}}}{6}}}\\\\\n",
        "&\\frac{1}{2} + \\color{red}{\\boxed{2 \\times \\frac{25}{3}}} - \\color{green}{\\boxed{\\frac{79}{6}}}\\\\\n",
        "&\\color{red}{\\boxed{\\frac{1}{2} + \\color{green}{\\boxed{\\frac{50}{3}}} - \\frac{79}{6}}}\\\\\n",
        "&\\color{green}{\\boxed{4}}\\\\\\end{align*}\n",
        "$$"
      ],
      "metadata": {}
    },
    {
      "cell_type": "markdown",
      "id": "behavioral-virgin",
      "metadata": {},
      "source": [
        "Nella parentesizzazione **libera** vengono usate solo le parentesi tonde, liberamente annidate, il che ovviamente può produrre gradi di annidamento aribrariamente elevati. Per definire lo svolgimento di tali espressioni si procede in modo *ricorsivo*; si procede infatti svolgendo le parentesi di grado più elevato e, in caso di parità, da quella più a sinistra a quelle più a destra. Di nuovo, è evidente che ad ogni passo si opera su sottoespresioni che non contengono parentesi, il cui svolgimento è, ancora una volta, quello definito nella sezione precedente.\n",
        "\n",
        "Come esempio di svolgimento si consideri la precedente espressione su $\\mathbb{Q}$, in cui le tonde e graffe sono rimpiazzate da tonde, ottenedo una parentesizzazoine semplice"
      ]
    },
    {
      "cell_type": "markdown",
      "id": "verbal-frederick",
      "source": [
        "$$\n",
        "\\begin{align*}& \\frac{3}{4 + 2} + 2 \\times \\left(3 : \\color{blue}{\\left(\\color{red}{\\boxed{4 + 5}}\\right)} + {2}^{6 \\times \\frac{1}{2}}\\right) - \\frac{2 \\times \\left(5 \\times \\left(3 + 4\\right) + 5\\right) - 1}{6}\\\\\n",
        "&\\frac{3}{4 + 2} + 2 \\times \\left(3 : \\color{green}{\\boxed{9}} + {2}^{6 \\times \\frac{1}{2}}\\right) - \\frac{2 \\times \\left(5 \\times \\color{blue}{\\left(\\color{red}{\\boxed{3 + 4}}\\right)} + 5\\right) - 1}{6}\\\\\n",
        "&\\frac{3}{4 + 2} + 2 \\times \\color{blue}{\\left(3 : 9 + {2}^{\\color{red}{\\boxed{6 \\times \\frac{1}{2}}}}\\right)} - \\frac{2 \\times \\left(5 \\times \\color{green}{\\boxed{7}} + 5\\right) - 1}{6}\\\\\n",
        "&\\frac{3}{4 + 2} + 2 \\times \\color{blue}{\\left(3 : 9 + \\color{red}{\\boxed{{2}^{\\color{green}{\\boxed{3}}}}}\\right)} - \\frac{2 \\times \\left(5 \\times 7 + 5\\right) - 1}{6}\\\\\n",
        "&\\frac{3}{4 + 2} + 2 \\times \\color{blue}{\\left(\\color{red}{\\boxed{3 : 9}} + \\color{green}{\\boxed{8}}\\right)} - \\frac{2 \\times \\left(5 \\times 7 + 5\\right) - 1}{6}\\\\\n",
        "&\\frac{3}{4 + 2} + 2 \\times \\color{blue}{\\left(\\color{red}{\\boxed{\\color{green}{\\boxed{\\frac{1}{3}}} + 8}}\\right)} - \\frac{2 \\times \\left(5 \\times 7 + 5\\right) - 1}{6}\\\\\n",
        "&\\frac{3}{4 + 2} + 2 \\times \\color{green}{\\boxed{\\frac{25}{3}}} - \\frac{2 \\times \\color{blue}{\\left(\\color{red}{\\boxed{5 \\times 7}} + 5\\right)} - 1}{6}\\\\\n",
        "&\\frac{3}{4 + 2} + 2 \\times \\frac{25}{3} - \\frac{2 \\times \\color{blue}{\\left(\\color{red}{\\boxed{\\color{green}{\\boxed{35}} + 5}}\\right)} - 1}{6}\\\\\n",
        "&\\frac{3}{\\color{red}{\\boxed{4 + 2}}} + 2 \\times \\frac{25}{3} - \\frac{2 \\times \\color{green}{\\boxed{40}} - 1}{6}\\\\\n",
        "&\\color{red}{\\boxed{\\frac{3}{\\color{green}{\\boxed{6}}}}} + 2 \\times \\frac{25}{3} - \\frac{2 \\times 40 - 1}{6}\\\\\n",
        "&\\color{green}{\\boxed{\\frac{1}{2}}} + 2 \\times \\frac{25}{3} - \\frac{\\color{red}{\\boxed{2 \\times 40}} - 1}{6}\\\\\n",
        "&\\frac{1}{2} + 2 \\times \\frac{25}{3} - \\frac{\\color{red}{\\boxed{\\color{green}{\\boxed{80}} - 1}}}{6}\\\\\n",
        "&\\frac{1}{2} + 2 \\times \\frac{25}{3} - \\color{red}{\\boxed{\\frac{\\color{green}{\\boxed{79}}}{6}}}\\\\\n",
        "&\\frac{1}{2} + \\color{red}{\\boxed{2 \\times \\frac{25}{3}}} - \\color{green}{\\boxed{\\frac{79}{6}}}\\\\\n",
        "&\\color{red}{\\boxed{\\frac{1}{2} + \\color{green}{\\boxed{\\frac{50}{3}}} - \\frac{79}{6}}}\\\\\n",
        "&\\color{green}{\\boxed{4}}\\\\\\end{align*}\n",
        "$$"
      ],
      "metadata": {}
    },
    {
      "cell_type": "markdown",
      "id": "naval-easter",
      "metadata": {},
      "source": [
        "Osserviamo che l'ordine in cui sono semplificate le parentesi è diverso dal precedente: nel caso smeplice si svolgono prima le tonde, anche se il loro grado di annidamento risulta maggiore di quello di altre parentesi (e similmente ci si comporta per quadre e graffe)."
      ]
    },
    {
      "cell_type": "markdown",
      "id": "weird-australian",
      "metadata": {},
      "source": [
        "### Rappresentare una espressione\n",
        "\n",
        "Risulta evidente che all'entità astratta espressione corrispondono diverse possibili *rappresentazioni*, un paio delle quali sono di particolare interesse: la rappresentazione *testuale* e quella *grafica*.\n",
        "\n",
        "Per rappresentazione **testuale** dell'espressione si intende una stringa di caratteri tra i quali possono figurare:\n",
        "\n",
        "* l'usuale rappresentazione dei numeri in notazione scientifica (ad esempio `-3.23E-5`),\n",
        "* i caratteri corrispondenti agli operatori aritmetici binari e unari: `+`, `x`, `-` e `:`,\n",
        "* i caratteri corrispondenti alla formazione di frazioni e potenze: `/` e `^`,\n",
        "* le parentesi: `(`, `)`, `[`, `]`, `{` e `}`,\n",
        "* altri caratteri ritenuti utili (ad esempio, per indicare il raggruppamento di numeratore, denominatore o esponente).\n",
        "\n",
        "La rappresentazione **grafica** dell'espressione è una rappresentazione simile a quella più volte mostrata in questo testo e può essere ottenuta direttamente (disponendo degli elementi grafici nel modo opportuno), oppure *traducendo* l'espressione in un linguaggio opportuno come, ad esempio, [LaTeX](https://en.wikibooks.org/wiki/LaTeX/Mathematics) o [asciimath](https://github.com/asciimath/asciimathml). L'uso di LaTeX può risultare particolarmente indicato, dato che è possibile visualizzarlo direttamente in un notebook (sia nelle celle *markdown* che in modo programmatico, tramite l'uso delle funzioni [IPython.display.Math](https://ipython.readthedocs.io/en/stable/api/generated/IPython.display.html#IPython.display.Math) e [IPython.display.Markdown](https://ipython.readthedocs.io/en/stable/api/generated/IPython.display.html#IPython.display.Markdown).\n",
        "\n",
        "La tabella seguente mostra il sorgente LaTeX e la relativa visualizzazione di alcuni esempi utili ai fini del progetto\n",
        "\n",
        "|Sorgente|Visualizzazione|\n",
        "|-|-|\n",
        "|`+`, `-`, `\\times`, `:`|$+$, $-$, $\\times$, $:$|\n",
        "|`\\frac{N}{D}`|$\\frac{N}{D}$|\n",
        "|`{B}^{E}`|${B}^{E}$|\n",
        "|`\\left(A\\right)`, `\\left[A\\right]`, `\\left\\{A\\right\\}`|$\\left(A\\right)$, $\\left[A\\right]$, $\\left\\{A\\right\\}$|\n",
        "|`\\boxed{A}`|$\\boxed{A}$|\n",
        "|`\\color{red}{A}`|$\\color{red}{A}$|\n",
        "\n",
        "\n",
        "\n",
        "Si presti particolare attenzione all'uso delle graffe (attorno alle espressioni, qui rappresentate da lettere maiuscole, ma in genere date da più elementi che rendono necessario l'uso delle suddette graffe) e dei prefissi `\\left`, `\\right` davanti alle parentesi (necessari ad ottenere il dimensionamento automatico delle parentesi nel caso che l'espressione contenuta in esse si estenda in verticale)."
      ]
    },
    {
      "cell_type": "markdown",
      "id": "extreme-pastor",
      "metadata": {},
      "source": [
        "## La procedura\n",
        "\n",
        "Obiettivo del progetto è scrivere una procedura che, a partire dalla rappresentazione testuale di una espressione, produca la rappresentazione grafica dell'elenco di espressioni che ne costituiscono lo svolgimento.\n",
        "\n",
        "Per svolgere il progetto sarà necessario:\n",
        "\n",
        "1. Speficifare una **grammatica** che determini quali rappresentazioni testuali corrispondano a espressioni legittime. Tale grammatica dovrà essere progettata in modo da rendere praticabile la ricostruzione della *struttura astratta* dell'espressione.\n",
        "\n",
        "2. Implementare un **parser** (e un eventuale ulteriore processo di raffinamento) in grado di ricostruire la suddetta struttura; in questa fase può essere opportuno, tra l'altro, eseguire la trasformazione in numeri razionali delle sottoespressioni frazione con numeratore e denominatore interi, così come eliminare i segni unari ripetuti.\n",
        "\n",
        "3. Implementare una procedura in grado di elencare (in un opportuno formato intermedio) i **passi dello svolgimento** dell'espressione così ottenuta, praticando le necessarie semplificazioni nell'ordine descritto nella precedente sezione.\n",
        "\n",
        "4. Implementare un traduttore in grado di emettere una **rappresentazione grafica** delle espressioni prodotte al punto precedente.\n",
        "\n",
        "### Modulazione del progetto\n",
        "\n",
        "Lo studente deve accordarsi con il docente prima dello svolgimento del progetto per scegliere tra le diverse alternative presentate di seguito che consentono di modulare la complessità del lavoro.\n",
        "\n",
        "È possibile fare alcune scelte riguardo al **tipo di espressioni**:\n",
        "\n",
        "* Si può decidere l'insieme di domini su cui sono definite le espressioni: dal caso più elementare del solo $\\mathbb{Z}$, al caso più completo in cui sia possibile scegliere il dominio tra $\\mathbb{N}$, $\\mathbb{Z}$, $\\mathbb{Q}$ e $\\mathbb{R}$.\n",
        "\n",
        "* Si può decidere quali operatori e costrutti supportare: dal caso più elementare delle sole operazioni aritmetiche, aggiungendo man mano i segni unari, le frazioni e le potenze; ovviamente introdurre frazioni e potenze richiede che almeno $\\mathbb{Q}$ rientri tra i domini consentiti.\n",
        "\n",
        "* Si può decidere quali tipi di parentesizzazioni supportare: solamente quella semplice oppure entrambe (librera e semplice).\n",
        "\n",
        "È possibile fare alcune scelte riguardo all'**implementazione**:\n",
        "\n",
        "* Si può scegliere il linguaggio di programmazione tra: Pyhon, Java e Javascript (o un eventuale altro, da concordare col docente), così come si può scegliere se usare `liblet`, o meno.\n",
        "* Si può scegliere (riguardo al punto 2.) se implementare il parser in modo \"diretto\" o usare un generatore di parser (come ANTLR, o un altro, da concordare col docente).\n",
        "* Si può scegliere (riguardo al punto 4.) se implementare la rappresentazione grafica in uno dei due formati descritti o in un ulteriore formato da concordare col docente; tale formato può, alla peggio, coincidere con il formato testuale.\n",
        "\n",
        "Il processo può incontrare diverse circostanze di **errore** in cui non è possibile procedere:\n",
        "\n",
        "* la stringa in ingresso contiene *token* inattesi;\n",
        "* la stringa in ingresso non rispetta la *grammatica*;\n",
        "* l'espressione non rispetta alcuni vicoli imposti:\n",
        "\n",
        "    * vi compaiono delle parentesi non consentite dal tipo di parentesizzazione,\n",
        "    * l'annidamento delle parentesi non rispetta le regole della parentesizzazione,\n",
        "    * vi compare un numero fuori dal dominio inteso;\n",
        " \n",
        "* lo svolgimento richiede una semplificazione che:\n",
        "\n",
        "    * ha per risultato un numero fuori dal dominio inteso, o \n",
        "    * causa un errore aritmetico (come una divisione per zero, un *overflow*…),\n",
        "\n",
        "e tante altre. È possibile scegliere come reagire a tali cirostanze dalla soluzione più elementare, che consiste nel cattuare le eventuali eccezioni sollevate riportando solo un messaggio d'arresto generico, fino a una gestione avanzata, in cui ciascuna circostanza sia segnalata nel modo opportuno (eventualmente indicando la posizione più probabile dell'espressione in ingresso, o in corso di semplificazione, che ha causato l'errore).\n",
        "\n",
        "A seconda delle scelte, il docente suggerirà un probabile voto limite (se, ad esempio, per ciascuna possibilità si sceglie l'alternativa più elementare è difficile poter adire al massimo voto)."
      ]
    }
  ],
  "metadata": {
    "kernelspec": {
      "display_name": "Python 3",
      "language": "python",
      "name": "python3"
    },
    "language_info": {
      "codemirror_mode": {
        "name": "ipython",
        "version": 3
      },
      "file_extension": ".py",
      "mimetype": "text/x-python",
      "name": "python",
      "nbconvert_exporter": "python",
      "pygments_lexer": "ipython3",
      "version": "3.8.5"
    }
  },
  "nbformat": 4,
  "nbformat_minor": 5
}
